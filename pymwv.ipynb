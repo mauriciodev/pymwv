{
  "nbformat": 4,
  "nbformat_minor": 0,
  "metadata": {
    "colab": {
      "provenance": [],
      "authorship_tag": "ABX9TyPV0PQya0KgA5T41rra6Apx",
      "include_colab_link": true
    },
    "kernelspec": {
      "name": "python3",
      "display_name": "Python 3"
    },
    "language_info": {
      "name": "python"
    }
  },
  "cells": [
    {
      "cell_type": "markdown",
      "metadata": {
        "id": "view-in-github",
        "colab_type": "text"
      },
      "source": [
        "<a href=\"https://colab.research.google.com/github/mauriciodev/pymwv/blob/master/pymwv.ipynb\" target=\"_parent\"><img src=\"https://colab.research.google.com/assets/colab-badge.svg\" alt=\"Open In Colab\"/></a>"
      ]
    },
    {
      "cell_type": "code",
      "source": [
        "from osgeo import ogr\n",
        "import math\n",
        "import matplotlib.pyplot as plt"
      ],
      "metadata": {
        "id": "JX59FoIezjAh"
      },
      "execution_count": 1,
      "outputs": []
    },
    {
      "cell_type": "code",
      "execution_count": 2,
      "metadata": {
        "id": "AHvEUvE_zdqy"
      },
      "outputs": [],
      "source": [
        "class MWVD:\n",
        "    def ApoloniusCircle(self, s1, s2, w1, w2, extent):\n",
        "        \"\"\"\n",
        "        Calculates the Apollonius circle for two sites (s1, s2) with weights (w1, w2).\n",
        "\n",
        "        Args:\n",
        "          s1: Tuple (x, y) representing the coordinates of the first site.\n",
        "          s2: Tuple (x, y) representing the coordinates of the second site.\n",
        "          w1: Weight of the first site.\n",
        "          w2: Weight of the second site.\n",
        "          extent: ogr.Geometry representing the extent of the area.\n",
        "\n",
        "        Returns:\n",
        "          ogr.Geometry: The Apollonius circle as an ogr.Geometry object.\n",
        "        \"\"\"\n",
        "        s1x, s1y = s1\n",
        "        s2x, s2y = s2\n",
        "\n",
        "        if w1 == w2:  # Regular Voronoi\n",
        "            mx = (s1x + s2x) / 2.\n",
        "            my = (s1y + s2y) / 2.\n",
        "            dx = s1x - s2x\n",
        "            dy = s1y - s2y\n",
        "            d = extent.GetBoundary().Length()\n",
        "            curve = ogr.Geometry(ogr.wkbLineString)\n",
        "\n",
        "            if dy != 0:\n",
        "                m = math.atan(-1. * (dx / dy))\n",
        "                curve.AddPoint_2D(-d * math.cos(m) + mx, -d * math.sin(m) + my)\n",
        "                curve.AddPoint_2D(d * math.cos(m) + mx, d * math.sin(m) + my)\n",
        "            else:\n",
        "                curve.AddPoint_2D(mx, -d + my)\n",
        "                curve.AddPoint_2D(mx, d + my)\n",
        "\n",
        "            shortCurve = curve.Intersection(extent)\n",
        "            diff = extent.GetBoundary().Difference(curve)\n",
        "            boundary = diff.GetGeometryRef(1)\n",
        "            endPoint = boundary.GetPoint(0)\n",
        "            boundary.AddPoint_2D(endPoint[0], endPoint[1])\n",
        "\n",
        "            ring = ogr.Geometry(ogr.wkbLinearRing)\n",
        "            for point in boundary.GetPoints():\n",
        "                ring.AddPoint_2D(point[0], point[1])\n",
        "            ring.AddGeometry(boundary)\n",
        "\n",
        "            domBoundary = ogr.Geometry(ogr.wkbPolygon)\n",
        "            domBoundary.AddGeometry(ring)\n",
        "\n",
        "        else:  # Weighted Voronoi\n",
        "            den=1./(w1*w1-w2*w2);\n",
        "            cx=(w1*w1*s2x-w2*w2*s1x)*den\n",
        "            cy=(w1*w1*s2y-w2*w2*s1y)*den\n",
        "            #print('Center:', cx, cy)\n",
        "            d= math.sqrt(((s1x-s2x)*(s1x-s2x) + (s1y-s2y)*(s1y-s2y)))\n",
        "            r=w1*w2*d*den\n",
        "            #print(\"Radius:\",r)\n",
        "            if (r<0): r=r*-1\n",
        "            #creating the circle boundary from 3 points\n",
        "            arc= ogr.Geometry(ogr.wkbCircularString)\n",
        "            arc.AddPoint_2D(cx+r,cy)\n",
        "            arc.AddPoint_2D(cx-r,cy)\n",
        "            arc.AddPoint_2D(cx+r,cy)\n",
        "            #creating the circle polygon\n",
        "            domBoundary=ogr.Geometry(ogr.wkbCurvePolygon)\n",
        "            domBoundary.AddGeometry(arc)\n",
        "\n",
        "        # Create ogr.Geometry from tuple for intersection check\n",
        "        s1_geom = ogr.Geometry(ogr.wkbPoint)\n",
        "        s1_geom.AddPoint_2D(*s1)\n",
        "\n",
        "        if s1_geom.Intersects(domBoundary):\n",
        "            return domBoundary\n",
        "        else:\n",
        "            return extent.Difference(domBoundary)\n",
        "\n",
        "    def getMWVLayer(self, sites, extent):\n",
        "        \"\"\"\n",
        "        Calculates the Multiplicatively Weighted Voronoi Diagram for a set of sites.\n",
        "\n",
        "        Args:\n",
        "          sites: List of dictionaries, each with keys 'p' (tuple of x,y coordinates)\n",
        "                 and 'w' (weight).\n",
        "          extent: ogr.Geometry representing the extent of the area.\n",
        "\n",
        "        Returns:\n",
        "          list: A list of polygons, each represented as a list of (x, y) tuples.\n",
        "        \"\"\"\n",
        "        polygons = []\n",
        "        for site1 in sites:\n",
        "            dominance = extent\n",
        "            for site2 in sites:\n",
        "                if site1 != site2:\n",
        "                    twoSitesDominance = self.ApoloniusCircle(site1['p'], site2['p'], site1['w'], site2['w'], extent)\n",
        "                    dominance = dominance.Intersection(twoSitesDominance)\n",
        "\n",
        "            # Extract polygon boundary points\n",
        "            boundary = dominance.GetBoundary()\n",
        "            polygon = []\n",
        "            for i in range(boundary.GetPointCount()):\n",
        "                x, y, _ = boundary.GetPoint(i)\n",
        "                polygon.append((x, y))\n",
        "            polygons.append(polygon)\n",
        "        return polygons\n"
      ]
    },
    {
      "cell_type": "code",
      "source": [
        "def create_extent(points):\n",
        "    \"\"\"\n",
        "    Creates an extent polygon from a list of points.\n",
        "\n",
        "    Args:\n",
        "      points: A list of (x, y) tuples representing the points.\n",
        "\n",
        "    Returns:\n",
        "      ogr.Geometry: An ogr.Geometry object representing the extent polygon.\n",
        "    \"\"\"\n",
        "    minx = min(p[0] for p in points)\n",
        "    miny = min(p[1] for p in points)\n",
        "    maxx = max(p[0] for p in points)\n",
        "    maxy = max(p[1] for p in points)\n",
        "\n",
        "    # Create a slightly larger extent for buffering\n",
        "    dx = (maxx - minx) / 10.\n",
        "    dy = (maxy - miny) / 10.\n",
        "    minx -= dx\n",
        "    miny -= dy\n",
        "    maxx += dx\n",
        "    maxy += dy\n",
        "\n",
        "    ring = ogr.Geometry(ogr.wkbLinearRing)\n",
        "    ring.AddPoint(minx, miny)\n",
        "    ring.AddPoint(minx, maxy)\n",
        "    ring.AddPoint(maxx, maxy)\n",
        "    ring.AddPoint(maxx, miny)\n",
        "    ring.AddPoint(minx, miny)\n",
        "\n",
        "    extent = ogr.Geometry(ogr.wkbPolygon)\n",
        "    extent.AddGeometry(ring)\n",
        "    return extent"
      ],
      "metadata": {
        "id": "jIlJGYhozxsc"
      },
      "execution_count": 3,
      "outputs": []
    },
    {
      "cell_type": "code",
      "source": [
        "points = [\n",
        "    (1, 1),\n",
        "    (3, 2),\n",
        "    (5, 1),\n",
        "    (4, 4),\n",
        "    (2, 5)\n",
        "]\n",
        "weights = [1.11, 1.12, 1.13, 1.1, 1.2]\n",
        "\n",
        "sites = [{'p': p, 'w': w} for p, w in zip(points, weights)]\n",
        "extent = create_extent(points)\n",
        "\n",
        "mwvd = MWVD()\n",
        "polygons = mwvd.getMWVLayer(sites, extent)\n",
        "\n",
        "# Plotting the polygons\n",
        "fig, ax = plt.subplots()\n",
        "print(polygons)\n",
        "for polygon in polygons:\n",
        "    xs, ys = zip(*polygon)\n",
        "    ax.plot(xs, ys, '-')\n",
        "\n",
        "# Plot the sites\n",
        "for i, point in enumerate(points):\n",
        "    ax.plot(point[0], point[1], 'ro')\n",
        "    ax.text(point[0], point[1]+0.1, f'{i+1}', fontsize=8, color='blue')\n",
        "\n",
        "ax.set_aspect('equal')\n",
        "\n",
        "plt.show()"
      ],
      "metadata": {
        "colab": {
          "base_uri": "https://localhost:8080/",
          "height": 467
        },
        "id": "yNLnj1kyzzfJ",
        "outputId": "e9beab50-66af-4300-980d-34bab499b23d"
      },
      "execution_count": 4,
      "outputs": [
        {
          "output_type": "stream",
          "name": "stdout",
          "text": [
            "[[(0.6, 0.6), (0.6, 3.1126428394299883), (1.2186356643521516, 2.9714432860165814), (2.3606625608392626, 0.6), (0.6, 0.6)], [(2.3606625608392626, 0.6), (1.223501903483414, 2.9613384363396777), (1.6384340130675807, 3.1353105168661837), (2.6506182995218257, 3.4797128604182825), (4.445320347487413, 2.5769423775420512), (3.49327507561819, 0.6), (2.3606625608392626, 0.6)], [(4.411918942123078, 2.5075836446274207), (4.8394978518656435, 2.63678471508706), (5.4, 2.8493551409819595), (5.4, 0.6), (3.49327507561819, 0.6), (4.411918942123078, 2.5075836446274207)], [(4.8394978518656435, 2.63678471508706), (4.518925291347588, 2.539917640881138), (2.6056169446047766, 3.5023494283960153), (2.95952836000913, 4.307197679122736), (3.371225291177893, 5.091620643966734), (3.561300457774457, 5.4), (5.4, 5.4), (5.4, 2.8493551409819595), (4.8394978518656435, 2.63678471508706)], [(1.6384340130675807, 3.1353105168661837), (1.2373920319681704, 2.9671622675049623), (0.6, 3.1126428394299883), (0.6, 5.4), (3.561300457774457, 5.4), (3.371225291177893, 5.091620643966734), (3.071614639849872, 4.5341921158475085), (2.799848721585408, 3.9626709946102663), (2.5901927632898905, 3.459152675314469), (1.6384340130675807, 3.1353105168661837)]]\n"
          ]
        },
        {
          "output_type": "display_data",
          "data": {
            "text/plain": [
              "<Figure size 640x480 with 1 Axes>"
            ],
            "image/png": "[encoded data removed]"
          },
          "metadata": {}
        }
      ]
    }
  ]
}